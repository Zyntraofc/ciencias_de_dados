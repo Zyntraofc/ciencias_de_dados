{
 "cells": [
  {
   "cell_type": "markdown",
   "metadata": {},
   "source": [
    "# Análise Exploratória de Dados - Absenteísmo"
   ]
  },
  {
   "cell_type": "markdown",
   "metadata": {},
   "source": [
    "### Data Frame(s):\n",
    "- Absenteísmo em uma empresa de logística (Brasil) 2007-2010: https://archive.ics.uci.edu/dataset/445/absenteeism+at+work"
   ]
  },
  {
   "cell_type": "code",
   "execution_count": null,
   "metadata": {},
   "source": [
    "# Bibliotecas\n",
    "from ucimlrepo import fetch_ucirepo\n",
    "import pandas as pd\n",
    "import seaborn as sns\n",
    "import matplotlib.pyplot as plt\n",
    "import numpy as np\n",
    "from scipy.stats import chi2_contingency\n",
    "from itertools import combinations"
   ]
  },
  {
   "cell_type": "code",
   "execution_count": null,
   "metadata": {},
   "source": [
    "# Montando DataFrame\n",
    "absenteeism_at_work = fetch_ucirepo(id=445)\n",
    "X = absenteeism_at_work.data.features\n",
    "y = absenteeism_at_work.data.targets\n",
    "# Junta os features e o target em um único DataFrame\n",
    "df = pd.concat([X, y], axis=1)\n",
    "# Visualiza as primeiras linhas\n",
    "df.head()"
   ]
  },
  {
   "cell_type": "code",
   "execution_count": null,
   "metadata": {},
   "source": [
    "# Estrutura básica do DF\n",
    "df.info()\n",
    "df.shape\n",
    "df.columns\n",
    "df.dtypes"
   ]
  },
  {
   "cell_type": "code",
   "execution_count": null,
   "metadata": {},
   "source": [
    "# Valores ausentes e duplicados\n",
    "print(\"Verificação de dados nulos (soma por coluna):\")\n",
    "print(df.isnull().sum())\n",
    "\n",
    "print(\"\\nVerificação de dados duplicados (soma):\")\n",
    "print(df.duplicated().sum())"
   ]
  },
  {
   "cell_type": "code",
   "execution_count": null,
   "metadata": {},
   "source": [
    "# Mostrar valores duplicados e seus pares\n",
    "df[df.duplicated(keep=False)].sort_values(by=df.columns.tolist()).head(6)\n",
    "# Como o objetivo da análise é descobrir o que influencia principalmente no absenteísmo, ocorrências idênticas provavelmente seriam casos legítimos e não erro de inserção de dado"
   ]
  },
  {
   "cell_type": "markdown",
   "metadata": {},
   "source": [
    "## Detalhamento das colunas do DF\n",
    "Explicações e contexto adicional para cada variável."
   ]
  },
  {
   "cell_type": "markdown",
   "metadata": {},
   "source": [
    "### Individual identification (ID)\n",
    "- Identificador único de cada funcionário.\n",
    "- Serve apenas para diferenciar os indivíduos, não contém significado analítico."
   ]
  },
  {
   "cell_type": "markdown",
   "metadata": {},
   "source": [
    "### Reason for absence (ICD)\n",
    "- Código que representa o motivo da ausência (CID).\n",
    "- 21 categorias principais + 7 extras (22-28).\n",
    "\n",
    "Exemplos:\n",
    "I: Doenças infecciosas e parasitárias\n",
    "II: Neoplasias (tumores)\n",
    "... (continua para todos os códigos)"
   ]
  },
  {
   "cell_type": "markdown",
   "metadata": {},
   "source": [
    "### Seasons\n",
    "- 1: Verão, 2: Outono, 3: Inverno, 4: Primavera\n",
    "- Ajuda a identificar padrões sazonais de absenteísmo."
   ]
  },
  {
   "cell_type": "markdown",
   "metadata": {},
   "source": [
    "### Transportation expense\n",
    "- Custo mensal de transporte do funcionário."
   ]
  },
  {
   "cell_type": "markdown",
   "metadata": {},
   "source": [
    "### Distance from Residence to Work\n",
    "- Distância entre residência e trabalho em km."
   ]
  },
  {
   "cell_type": "markdown",
   "metadata": {},
   "source": [
    "### Service time\n",
    "- Tempo total de serviço do funcionário na empresa (anos)."
   ]
  },
  {
   "cell_type": "markdown",
   "metadata": {},
   "source": [
    "### Work load Average/day\n",
    "- Média de horas produtivas/demanda da empresa."
   ]
  },
  {
   "cell_type": "markdown",
   "metadata": {},
   "source": [
    "### Hit target\n",
    "- Indicador binário de atingimento de metas."
   ]
  },
  {
   "cell_type": "markdown",
   "metadata": {},
   "source": [
    "### Disciplinary failure\n",
    "- Variável binária: 1 = falha disciplinar, 0 = nenhuma."
   ]
  },
  {
   "cell_type": "markdown",
   "metadata": {},
   "source": [
    "### Education\n",
    "- 1: Ensino médio, 2: Graduação, 3: Pós-graduação, 4: Mestrado/Doutorado."
   ]
  },
  {
   "cell_type": "markdown",
   "metadata": {},
   "source": [
    "### Social drinker / Social smoker\n",
    "- 1 = Sim, 0 = Não. Avalia hábitos que podem influenciar saúde e absenteísmo."
   ]
  },
  {
   "cell_type": "markdown",
   "metadata": {},
   "source": [
    "### Body mass index\n",
    "- IMC do funcionário."
   ]
  },
  {
   "cell_type": "markdown",
   "metadata": {},
   "source": [
    "### Absenteeism time in hours (target)\n",
    "- Variável alvo: total de horas de ausência."
   ]
  },
  {
   "cell_type": "markdown",
   "metadata": {},
   "source": [
    "## Análise de Correlação entre Variáveis Numéricas"
   ]
  },
  {
   "cell_type": "code",
   "execution_count": null,
   "metadata": {},
   "source": [
    "# Separar variáveis numéricas\n",
    "var_numericas = [\n",
    "    \"Transportation expense\",\n",
    "    \"Distance from Residence to Work\",\n",
    "    \"Service time\",\n",
    "    \"Work load Average/day \",\n",
    "    \"Hit target\",\n",
    "    \"Body mass index\",\n",
    "    \"Age\",\n",
    "    \"Son\",\n",
    "    \"Pet\",\n",
    "    \"Weight\",\n",
    "    \"Height\",\n",
    "    \"Absenteeism time in hours\"\n",
    "]\n",
    "\n",
    "# Relação entre variáveis numéricas\n",
    "corr = df[[x for x in var_numericas]].corr(method=\"pearson\")\n",
    "\n",
    "plt.figure(figsize=(10, 6))\n",
    "sns.heatmap(corr, annot=True, cmap='coolwarm', fmt='.2f')\n",
    "plt.title('Correlação entre variáveis numéricas')\n",
    "plt.show()"
   ]
  },
  {
   "cell_type": "markdown",
   "metadata": {},
   "source": [
    "## Análise de Associação entre Variáveis Categóricas"
   ]
  },
  {
   "cell_type": "code",
   "execution_count": null,
   "metadata": {},
   "source": [
    "var_categoricos = [\n",
    "    \"Reason for absence\",\n",
    "    \"Seasons\",\n",
    "    \"Disciplinary failure\",\n",
    "    \"Education\",\n",
    "    \"Social drinker\",\n",
    "    \"Social smoker\",\n",
    "    \"Month of absence\",\n",
    "    \"Day of the week\"\n",
    "]\n",
    "\n",
    "# Mapas de categorias\n",
    "reason_for_absence = {\n",
    "    1: \"Doenças infecciosas e parasitárias\", 2: \"Neoplasias (tumores)\", 3: \"Doenças do sangue e do sistema imunitário\",\n",
    "    4: \"Doenças endócrinas, nutricionais e metabólicas\", 5: \"Transtornos mentais e comportamentais\", 6: \"Doenças do sistema nervoso\",\n",
    "    7: \"Doenças do olho e anexos\", 8: \"Doenças do ouvido e do processo mastoide\", 9: \"Doenças do sistema circulatório\",\n",
    "    10: \"Doenças do sistema respiratório\", 11: \"Doenças do sistema digestivo\", 12: \"Doenças da pele e tecido subcutâneo\",\n",
    "    13: \"Doenças do sistema musculoesquelético e tecido conjuntivo\", 14: \"Doenças do sistema geniturinário\", 15: \"Gravidez, parto e puerpério\",\n",
    "    16: \"Condições originadas no período perinatal\", 17: \"Malformações congênitas e anomalias cromossômicas\", 18: \"Sintomas e achados clínicos anormais não classificados em outro local\",\n",
    "    19: \"Lesões, envenenamentos e outras consequências de causas externas\", 20: \"Causas externas de morbidade e mortalidade\", 21: \"Fatores que influenciam o estado de saúde e contato com serviços de saúde\",\n",
    "    22: \"Acompanhamento de paciente\", 23: \"Consulta médica\", 24: \"Doação de sangue\", 25: \"Exame laboratorial\", 26: \"Falta não justificada\", 27: \"Sessão de fisioterapia\", 28: \"Consulta odontológica\"\n",
    "}\n",
    "seasons = {1: \"Verão\", 2: \"Outono\", 3: \"Inverno\", 4: \"Primavera\"}\n",
    "disciplinary_failure = {1: \"Sim\", 0: \"Não\"}\n",
    "education = {1: \"Ensino médio\", 2: \"Graduado\", 3: \"Pós-graduado\", 4: \"Mestre e doutor\"}\n",
    "social_drinker = {1: \"Sim\", 0: \"Não\"}\n",
    "social_smoker = {1: \"Sim\", 0: \"Não\"}\n",
    "month_of_absence = {1:\"Janeiro\",2:\"Fevereiro\",3:\"Março\",4:\"Abril\",5:\"Maio\",6:\"Junho\",7:\"Julho\",8:\"Agosto\",9:\"Setembro\",10:\"Outubro\",11:\"Novembro\",12:\"Dezembro\"}\n",
    "day_week = {2:\"Segunda-feira\",3:\"Terça-feira\",4:\"Quarta-feira\",5:\"Quinta-feira\",6:\"Sexta-feira\"}\n",
    "\n",
    "# Criar DataFrame categórico\n",
    "df_cat = df.copy()\n",
    "df_cat[\"Reason for absence\"] = df_cat[\"Reason for absence\"].map(reason_for_absence)\n",
    "df_cat[\"Seasons\"] = df_cat[\"Seasons\"].map(seasons)\n",
    "df_cat[\"Disciplinary failure\"] = df_cat[\"Disciplinary failure\"].map(disciplinary_failure)\n",
    "df_cat[\"Education\"] = df_cat[\"Education\"].map(education)\n",
    "df_cat[\"Social drinker\"] = df_cat[\"Social drinker\"].map(social_drinker)\n",
    "df_cat[\"Social smoker\"] = df_cat[\"Social smoker\"].map(social_smoker)\n",
    "df_cat[\"Month of absence\"] = df_cat[\"Month of absence\"].map(month_of_absence)\n",
    "df_cat[\"Day of the week\"] = df_cat[\"Day of the week\"].map(day_week)\n",
    "df_cat.head()"
   ]
  },
  {
   "cell_type": "code",
   "execution_count": null,
   "metadata": {},
   "source": [
    "# Função Cramér's V\n",
    "def cramers_v(x, y):\n",
    "    confusion_matrix = pd.crosstab(x, y)\n",
    "    chi2 = chi2_contingency(confusion_matrix)[0]\n",
    "    n = confusion_matrix.sum().sum()\n",
    "    phi2 = chi2 / n\n",
    "    r, k = confusion_matrix.shape\n",
    "    phi2corr = max(0, phi2 - ((k-1)*(r-1))/(n-1))\n",
    "    rcorr = r - ((r-1)**2)/(n-1)\n",
    "    kcorr = k - ((k-1)**2)/(n-1)\n",
    "    return np.sqrt(phi2corr / min((kcorr-1), (rcorr-1)))\n",
    "\n",
    "# Calcular todas combinações\n",
    "resultados = []\n",
    "for var1, var2 in combinations(var_categoricos, 2):\n",
    "    valor = cramers_v(df_cat[var1], df_cat[var2])\n",
    "    resultados.append({\"Variável 1\": var1, \"Variável 2\": var2, \"Cramers V\": valor})\n",
    "\n",
    "df_cramers = pd.DataFrame(resultados).sort_values(by=\"Cramers V\", ascending=False).reset_index(drop=True)\n",
    "print(\"Correlação entre variáveis categóricas (Cramér’s V):\")\n",
    "display(df_cramers)"
   ]
  },
  {
   "cell_type": "code",
   "execution_count": null,
   "metadata": {},
   "source": [
    "# Boxplots categóricas vs absenteísmo\n",
    "for i in var_categoricos:\n",
    "    sns.boxplot(x=i, y='Absenteeism time in hours', data=df)\n",
    "    plt.title(f\"{i} x Absenteeism time in hours\")\n",
    "    plt.xticks(rotation=45)\n",
    "    plt.show()"
   ]
  },
  {
   "cell_type": "code",
   "execution_count": null,
   "metadata": {},
   "source": [
    "# Gráficos de barras do motivo de ausência\n",
    "df['Reason'] = df['Reason for absence'].map(reason_for_absence)\n",
    "df_count = df['Reason'].value_counts().sort_values(ascending=False)\n",
    "\n",
    "plt.figure(figsize=(12,6))\n",
    "sns.barplot(x=df_count.index, y=df_count.values)\n",
    "plt.title('Quantidade de ocorrências por motivo de ausência')\n",
    "plt.xlabel('Motivo de ausência')\n",
    "plt.ylabel('Quantidade de registros')\n",
    "plt.xticks(rotation=45, ha='right')\n",
    "plt.show()\n",
    "\n",
    "df_mean_hours = df.groupby('Reason')['Absenteeism time in hours'].mean().sort_values(ascending=False)\n",
    "plt.figure(figsize=(12,6))\n",
    "sns.barplot(x=df_mean_hours.index, y=df_mean_hours.values)\n",
    "plt.title('Média de horas de ausência por motivo')\n",
    "plt.xlabel('Motivo de ausência')\n",
    "plt.ylabel('Média de horas')\n",
    "plt.xticks(rotation=45, ha='right')\n",
    "plt.show()"
   ]
  },
  {
   "cell_type": "code",
   "execution_count": null,
   "metadata": {},
   "source": [
    "# Análise sobre hábitos não saudáveis\n",
    "# Álcool\n",
    "df_mean_drinker = df.groupby('Social drinker')['Absenteeism time in hours'].mean().reset_index()\n",
    "df_mean_drinker['Drinker status'] = df_mean_drinker['Social drinker'].map({0: 'Não bebe', 1: 'Bebe'})\n",
    "plt.figure(figsize=(6,5))\n",
    "sns.barplot(x='Drinker status', y='Absenteeism time in hours', data=df_mean_drinker, palette=['skyblue','salmon'])\n",
    "plt.title('Média de horas de absenteísmo por hábito de consumo de álcool')\n",
    "plt.xlabel('Hábito de consumo de álcool')\n",
    "plt.ylabel('Média de horas de absenteísmo')\n",
    "plt.ylim(0, df['Absenteeism time in hours'].max() + 1)\n",
    "plt.show()\n",
    "\n",
    "# Fumo\n",
    "df_mean_smoker = df.groupby('Social smoker')['Absenteeism time in hours'].mean().reset_index()\n",
    "df_mean_smoker['Smoker status'] = df_mean_smoker['Social smoker'].map({0: 'Não fuma', 1: 'Fuma'})\n",
    "plt.figure(figsize=(6,5))\n",
    "sns.barplot(x='Smoker status', y='Absenteeism time in hours', data=df_mean_smoker, palette=['skyblue','salmon'])\n",
    "plt.title('Média de horas de absenteísmo por hábito de fumo')\n",
    "plt.xlabel('Hábito de fumo')\n",
    "plt.ylabel('Média de horas de absenteísmo')\n",
    "plt.ylim(0, df['Absenteeism time in hours'].max() + 1)\n",
    "plt.show()\n",
    "\n",
    "# Médias por motivo e hábitos\n",
    "df['Smoker status'] = df['Social smoker'].map({0: 'Não fuma', 1: 'Fuma'})\n",
    "df['Drinker status'] = df['Social drinker'].map({0: 'Não bebe', 1: 'Bebe'})\n",
    "\n",
    "df_smoker = df.groupby(['Reason', 'Smoker status'])['Absenteeism time in hours'].mean().reset_index()\n",
    "plt.figure(figsize=(14,6))\n",
    "sns.barplot(x='Reason', y='Absenteeism time in hours', hue='Smoker status', data=df_smoker, palette=['skyblue','salmon'])\n",
    "plt.title('Média de horas de absenteísmo por motivo de falta (Fumantes)')\n",
    "plt.xlabel('Motivo de ausência')\n",
    "plt.ylabel('Média de horas')\n",
    "plt.xticks(rotation=45, ha='right')\n",
    "plt.legend(title='Fumante')\n",
    "plt.show()\n",
    "\n",
    "df_drinker = df.groupby(['Reason', 'Drinker status'])['Absenteeism time in hours'].mean().reset_index()\n",
    "plt.figure(figsize=(14,6))\n",
    "sns.barplot(x='Reason', y='Absenteeism time in hours', hue='Drinker status', data=df_drinker, palette=['skyblue','salmon'])\n",
    "plt.title('Média de horas de absenteísmo por motivo de falta (Bebedores)')\n",
    "plt.xlabel('Motivo de ausência')\n",
    "plt.ylabel('Média de horas')\n",
    "plt.xticks(rotation=45, ha='right')\n",
    "plt.legend(title='Bebedor')\n",
    "plt.show()"
   ]
  }
 ],
 "metadata": {
  "kernelspec": {
   "display_name": "Python 3",
   "language": "python",
   "name": "python3"
  },
  "language_info": {
   "name": "python",
   "version": "3.11"
  }
 },
 "nbformat": 4,
 "nbformat_minor": 5
}
