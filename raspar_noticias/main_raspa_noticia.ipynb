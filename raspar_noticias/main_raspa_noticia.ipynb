{
 "cells": [
  {
   "cell_type": "code",
   "execution_count": null,
   "id": "65625711",
   "metadata": {},
   "outputs": [],
   "source": [
    "#Bibliotecas\n",
    "from selenium import webdriver\n",
    "from selenium.webdriver.common.by import By\n",
    "from selenium.webdriver.chrome.service import Service\n",
    "from selenium.webdriver.support.ui import WebDriverWait\n",
    "from selenium.webdriver.support import expected_conditions as EC\n",
    "from selenium.webdriver.chrome.options import Options"
   ]
  },
  {
   "cell_type": "code",
   "execution_count": 9,
   "id": "f43f234d",
   "metadata": {},
   "outputs": [],
   "source": [
    "# Configurações\n",
    "chrome_options = Options()\n",
    "\n",
    "# Desativar pop-ups e notificações\n",
    "prefs = {\n",
    "    \"profile.default_content_setting_values.notifications\": 2,  # 1 = permitir / 2 = bloquear\n",
    "    \"profile.default_content_setting_values.popups\": 0,\n",
    "    \"profile.default_content_setting_values.geolocation\": 2,\n",
    "    \"profile.default_content_setting_values.automatic_downloads\": 1,\n",
    "    \"profile.default_content_setting_values.cookies\": 2,\n",
    "}\n",
    "chrome_options.add_experimental_option(\"prefs\", prefs)\n",
    "\n",
    "# Argumentos extras úteis\n",
    "chrome_options.add_argument(\"--disable-popup-blocking\")\n",
    "chrome_options.add_argument(\"--disable-notifications\")\n",
    "chrome_options.add_argument(\"--disable-infobars\")\n",
    "chrome_options.add_argument(\"--start-maximized\")\n",
    "\n",
    "# Criação do driver\n",
    "service = Service(r\".\\chromedriver.exe\")\n",
    "chrome = webdriver.Chrome(service=service, options=chrome_options)\n"
   ]
  },
  {
   "cell_type": "code",
   "execution_count": 3,
   "id": "e8d7d85f",
   "metadata": {},
   "outputs": [],
   "source": [
    "# Função\n",
    "def pegar_texto_elemento(driver, by, locator, timeout=10):\n",
    "    try:\n",
    "        elemento = WebDriverWait(driver, timeout).until(\n",
    "            EC.presence_of_element_located((by, locator))\n",
    "        )\n",
    "        return elemento.text\n",
    "    except Exception as e:\n",
    "        print(f\"Erro ao pegar elemento: {e}\")\n",
    "        return None"
   ]
  },
  {
   "cell_type": "code",
   "execution_count": null,
   "id": "d29c9552",
   "metadata": {},
   "outputs": [
    {
     "name": "stdout",
     "output_type": "stream",
     "text": [
      "Erro ao pegar elemento: Message: \n",
      "Stacktrace:\n",
      "\tGetHandleVerifier [0x0x7ff749eb1eb5+80197]\n",
      "\tGetHandleVerifier [0x0x7ff749eb1f10+80288]\n",
      "\t(No symbol) [0x0x7ff749c302fa]\n",
      "\t(No symbol) [0x0x7ff749c87cd7]\n",
      "\t(No symbol) [0x0x7ff749c87f9c]\n",
      "\t(No symbol) [0x0x7ff749cdba87]\n",
      "\t(No symbol) [0x0x7ff749cb03bf]\n",
      "\t(No symbol) [0x0x7ff749cd87fb]\n",
      "\t(No symbol) [0x0x7ff749cb0153]\n",
      "\t(No symbol) [0x0x7ff749c78b02]\n",
      "\t(No symbol) [0x0x7ff749c798d3]\n",
      "\tGetHandleVerifier [0x0x7ff74a16e83d+2949837]\n",
      "\tGetHandleVerifier [0x0x7ff74a168c6a+2926330]\n",
      "\tGetHandleVerifier [0x0x7ff74a1886c7+3055959]\n",
      "\tGetHandleVerifier [0x0x7ff749eccfee+191102]\n",
      "\tGetHandleVerifier [0x0x7ff749ed50af+224063]\n",
      "\tGetHandleVerifier [0x0x7ff749ebaf64+117236]\n",
      "\tGetHandleVerifier [0x0x7ff749ebb119+117673]\n",
      "\tGetHandleVerifier [0x0x7ff749ea10a8+11064]\n",
      "\tBaseThreadInitThunk [0x0x7ffbce1de8d7+23]\n",
      "\tRtlUserThreadStart [0x0x7ffbcf728d9c+44]\n",
      "\n",
      "['Taxa De Absenteísmo Alta Traz Prejuízos Em Empresas', 'Saúde mental é a maior causa de absenteísmo nas empresas', 'Empregados faltam mais ao trabalho e afetam resultado financeiro das empresas', '', None, 'Enxaqueca é a principal causa de falta ao trabalho no Brasil', 'Afastamentos por depressão e ansiedade no trabalho aumentam 50% no Brasil']\n"
     ]
    }
   ],
   "source": [
    "links_lista = [\n",
    "    \"https://bluestudio.estadao.com.br/agencia-de-comunicacao/releases/releases-geral/taxa-de-absenteismo-alta-traz-prejuizos-em-empresas/?utm_source=chatgpt.com\",\n",
    "    \"https://www.oalfenense.com.br/noticia/28089/saude-mental-e-a-maior-causa-de-absenteismo-nas-empresas?\",\n",
    "    \"https://oglobo.globo.com/economia/negocios/noticia/2025/04/08/empregados-faltam-mais-ao-trabalho-e-afetam-resultado-financeiro-das-empresas.ghtml?utm_source=chatgpt.com\",\n",
    "    \"https://www.band.com.br/noticias/jornal-da-band/ultimas/enxaqueca-e-a-principal-causa-da-falta-de-trabalho-no-brasil-202409282002\",\n",
    "    \"https://radios.ebc.com.br/tarde-nacional-rio-de-janeiro/2024/09/afastamento-por-depressao-e-ansiedade-no-trabalho-aumentam-50-por-cento-no-brasil\"\n",
    "]\n",
    "\n",
    "manchetes = []\n",
    "\n",
    "for link in links_lista:\n",
    "    chrome.get(link)\n",
    "    manchete = pegar_texto_elemento(chrome, By.TAG_NAME, \"h1\")\n",
    "    manchetes.append(manchete)\n",
    "\n",
    "print(manchetes)\n",
    "chrome.quit()"
   ]
  },
  {
   "cell_type": "code",
   "execution_count": 11,
   "id": "39d262a6",
   "metadata": {},
   "outputs": [
    {
     "data": {
      "text/plain": [
       "['Taxa De Absenteísmo Alta Traz Prejuízos Em Empresas',\n",
       " 'Saúde mental é a maior causa de absenteísmo nas empresas',\n",
       " 'Empregados faltam mais ao trabalho e afetam resultado financeiro das empresas',\n",
       " '',\n",
       " None,\n",
       " 'Enxaqueca é a principal causa de falta ao trabalho no Brasil',\n",
       " 'Afastamentos por depressão e ansiedade no trabalho aumentam 50% no Brasil']"
      ]
     },
     "execution_count": 11,
     "metadata": {},
     "output_type": "execute_result"
    }
   ],
   "source": [
    "manchetes"
   ]
  }
 ],
 "metadata": {
  "kernelspec": {
   "display_name": "Python 3",
   "language": "python",
   "name": "python3"
  },
  "language_info": {
   "codemirror_mode": {
    "name": "ipython",
    "version": 3
   },
   "file_extension": ".py",
   "mimetype": "text/x-python",
   "name": "python",
   "nbconvert_exporter": "python",
   "pygments_lexer": "ipython3",
   "version": "3.13.2"
  }
 },
 "nbformat": 4,
 "nbformat_minor": 5
}
